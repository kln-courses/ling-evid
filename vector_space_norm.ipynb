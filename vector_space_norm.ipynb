{
 "cells": [
  {
   "cell_type": "markdown",
   "metadata": {},
   "source": [
    "# Create Normalized Vector Space for Topic Modeling #"
   ]
  },
  {
   "cell_type": "code",
   "execution_count": 1,
   "metadata": {
    "collapsed": true
   },
   "outputs": [],
   "source": [
    "import glob, os, re, sys, textmining\n",
    "from nltk.corpus import wordnet\n",
    "from nltk.tag import pos_tag\n",
    "from nltk.stem.wordnet import WordNetLemmatizer\n",
    "from nltk.corpus import stopwords"
   ]
  },
  {
   "cell_type": "code",
   "execution_count": 2,
   "metadata": {
    "collapsed": true
   },
   "outputs": [],
   "source": [
    "def read_txt(path):\n",
    "    fnames = sorted(glob.glob(os.path.join(path,\"*.txt\")))\n",
    "    data = []\n",
    "    metadata = []\n",
    "    for fname in fnames:\n",
    "        with open(fname, 'r') as f:\n",
    "            data.append(f.read())\n",
    "        metadata.append(os.path.basename(fname).split(\".\")[0])\n",
    "    return data, metadata"
   ]
  },
  {
   "cell_type": "code",
   "execution_count": 4,
   "metadata": {
    "collapsed": true
   },
   "outputs": [],
   "source": [
    "def clean(s):\n",
    "    return re.sub(r\"\\d\",\"\",s.lower())\n",
    "\n",
    "def tokenize(s, n = 1):\n",
    "    \"\"\" n-gram tokenization of string with maximum overlap\n",
    "    \"\"\"\n",
    "    if type(s) == unicode:\n",
    "        tokenizer = re.compile(r'\\W*', re.UNICODE)\n",
    "    else:\n",
    "        tokenizer = re.compile(r'\\W*')\n",
    "    unigram = tokenizer.split(s)\n",
    "    if n > 1:\n",
    "        return [unigram[i:i+n] for i in range(len(unigram)-(n-1))]\n",
    "    else:\n",
    "        return [s for s in unigram if s]\n",
    "\n",
    "def stopfilter(text):\n",
    "    tokens = tokenize(text)\n",
    "    tokens = [token for token in tokens if token not in stopwords.words('english')]\n",
    "    tokens = [token for token in tokens if len(token) > 1]\n",
    "    return \" \".join(tokens)\n",
    "\n",
    "def treebank2wordnet(treebank_tag):\n",
    "    \"\"\" map treebank pos tags to wordnets four categories:\n",
    "    - n: noun (default), v: verb, a: adjective, and r: adverbs\n",
    "    \"\"\"\n",
    "    if treebank_tag.startswith('J'):\n",
    "        return wordnet.ADJ\n",
    "    elif treebank_tag.startswith('V'):\n",
    "        return wordnet.VERB\n",
    "    elif treebank_tag.startswith('N'):\n",
    "        return wordnet.NOUN\n",
    "    elif treebank_tag.startswith('R'):\n",
    "        return wordnet.ADV\n",
    "    else:\n",
    "        return wordnet.NOUN# noun is baseline\n",
    "\n",
    "def pos_sensitive_lemmatizer(text):\n",
    "    \"\"\" lemmatizer with treebank pos tags\n",
    "    - string as in- and output\n",
    "    \"\"\"\n",
    "    tokens = tokenize(text)\n",
    "    tokens_tag = pos_tag(tokens, tagset = 'universal', lang = 'eng')\n",
    "    lemmatizer = WordNetLemmatizer()\n",
    "    output = []\n",
    "    for i in range(len(tokens_tag)):\n",
    "        output.append(lemmatizer.lemmatize(tokens_tag[i][0],\n",
    "        treebank2wordnet(tokens_tag[i][1])))\n",
    "    return \" \".join(output)"
   ]
  },
  {
   "cell_type": "code",
   "execution_count": 5,
   "metadata": {
    "collapsed": true
   },
   "outputs": [],
   "source": [
    "def texts2matrix(texts, titles, fname = 'matrix.csv'):\n",
    "    M = textmining.TermDocumentMatrix()\n",
    "    for text in texts:\n",
    "        M.add_doc(text)\n",
    "    M.write_csv(fname, cutoff=3)\n",
    "    tname = fname.split('.')[0] + '_filename.txt'\n",
    "    f = open(tname, 'w')\n",
    "    for i in titles:\n",
    "      f.write(\"%s\\n\" % i)\n",
    "    print \"matrix saved as \" + fname + \" and filenames as \" + tname"
   ]
  },
  {
   "cell_type": "code",
   "execution_count": 6,
   "metadata": {
    "collapsed": false
   },
   "outputs": [
    {
     "name": "stdout",
     "output_type": "stream",
     "text": [
      "matrix saved as matrix_norm.csv and filenames as matrix_norm_filename.txt\n"
     ]
    }
   ],
   "source": [
    "root = os.getcwd()\n",
    "dpath = os.path.join(root,\"DATA\",\"INAUG\")\n",
    "texts, titles = read_txt(dpath)\n",
    "texts = map(clean,texts)\n",
    "texts = map(stopfilter, texts)\n",
    "texts = map(pos_sensitive_lemmatizer, texts)\n",
    "texts2matrix(texts, titles, fname = 'matrix_norm.csv')"
   ]
  }
 ],
 "metadata": {
  "kernelspec": {
   "display_name": "Python 2",
   "language": "python",
   "name": "python2"
  },
  "language_info": {
   "codemirror_mode": {
    "name": "ipython",
    "version": 2
   },
   "file_extension": ".py",
   "mimetype": "text/x-python",
   "name": "python",
   "nbconvert_exporter": "python",
   "pygments_lexer": "ipython2",
   "version": "2.7.13"
  }
 },
 "nbformat": 4,
 "nbformat_minor": 2
}
