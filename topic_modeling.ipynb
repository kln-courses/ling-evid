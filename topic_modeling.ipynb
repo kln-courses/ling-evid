{
 "cells": [
  {
   "cell_type": "markdown",
   "metadata": {},
   "source": [
    "# Topic Modeling Code Sample #\n",
    "\n",
    "For this course, we will develop an interactive document using Jupyter Notebook"
   ]
  },
  {
   "cell_type": "code",
   "execution_count": null,
   "metadata": {
    "collapsed": false
   },
   "outputs": [],
   "source": [
    "s = \"I heart topic modeling\"\n",
    "for subs in s.split():\n",
    "    print subs"
   ]
  },
  {
   "cell_type": "markdown",
   "metadata": {},
   "source": [
    "## Module 1: Data Preparation ##\n",
    "\n",
    "Let us get a bit of help from Python's core modules (a module is just a .py-file containing Python code that we can import)"
   ]
  },
  {
   "cell_type": "code",
   "execution_count": null,
   "metadata": {
    "collapsed": false
   },
   "outputs": [],
   "source": [
    "import io, os"
   ]
  },
  {
   "cell_type": "code",
   "execution_count": null,
   "metadata": {
    "collapsed": false
   },
   "outputs": [],
   "source": [
    "# path to working directory\n",
    "root = os.getcwd()\n",
    "print root# print(root) for Py3 because print has become a function\n",
    "os.listdir(root)\n",
    "\n",
    "# path to data directory\n",
    "# dpath = os.path.join(root,\"DATA\",\"INAUG\")\n",
    "# os.listdir(dpath)"
   ]
  },
  {
   "cell_type": "code",
   "execution_count": null,
   "metadata": {
    "collapsed": false
   },
   "outputs": [],
   "source": [
    "import numpy as np\n",
    "# raw pipeline (lack major preprocessing steps)\n",
    "#X = np.loadtxt('matrix.csv', skiprows = 1, delimiter = ',', dtype = int) \n",
    "#vocab = open('matrix.csv','r').readline().split(',')\n",
    "\n",
    "# standard nlp pipeline\n",
    "X = np.loadtxt('matrix_norm.csv', skiprows = 1, delimiter = ',', dtype = int) \n",
    "vocab = open('matrix_norm.csv','r').readline().split(',')\n",
    "\n",
    "titles = [title.rstrip() for title in open('matrix_norm_filename.txt', 'r').readlines()]"
   ]
  },
  {
   "cell_type": "markdown",
   "metadata": {},
   "source": [
    "## Module 2: Model Training ##\n",
    "first import module and then instantiate model and fit to data"
   ]
  },
  {
   "cell_type": "code",
   "execution_count": null,
   "metadata": {
    "collapsed": false
   },
   "outputs": [],
   "source": [
    "import lda\n",
    "\n",
    "# hyperparameters\n",
    "k = 5# number of topics\n",
    "\n",
    "mdl1 = lda.LDA(n_topics = 5, n_iter = 200, random_state = 1234)\n",
    "# dir(mdl1)\n",
    "mdl1.fit(X)\n",
    "\n"
   ]
  },
  {
   "cell_type": "markdown",
   "metadata": {},
   "source": [
    "## Module 3: Exploring the Model ##"
   ]
  },
  {
   "cell_type": "code",
   "execution_count": null,
   "metadata": {
    "collapsed": false
   },
   "outputs": [],
   "source": [
    "topic_word = mdl1.topic_word_\n",
    "n_top_words = 10\n",
    "\n",
    "for i, topic_dist in enumerate(topic_word):\n",
    "    topic_words = np.array(vocab)[np.argsort(topic_dist)][:-(n_top_words+1):-1]\n",
    "    print \"topic {}: {}\".format(i, ' '.join(topic_words))"
   ]
  },
  {
   "cell_type": "code",
   "execution_count": 29,
   "metadata": {
    "collapsed": false
   },
   "outputs": [
    {
     "name": "stdout",
     "output_type": "stream",
     "text": [
      "1789-Washington\n",
      "top topic: 2 Document: every, government, may, public, duty, country, present\n",
      "1793-Washington\n",
      "top topic: 2 Document: shall, oath, arrive, may, distinguish, ceremony, government\n",
      "1797-Adams\n",
      "top topic: 2 Document: people, nation, government, may, state, country, constitution\n",
      "1801-Jefferson\n",
      "top topic: 2 Document: government, u, principle, may, fellow, let, citizen\n",
      "1805-Jefferson\n",
      "top topic: 2 Document: public, state, may, citizen, fellow, duty, interest\n",
      "1809-Madison\n",
      "top topic: 2 Document: nation, public, country, right, state, well, peace\n",
      "1813-Madison\n",
      "top topic: 0 Document: war, country, british, state, nation, every, find\n",
      "1817-Monroe\n",
      "top topic: 0 Document: state, government, great, people, u, every, citizen\n",
      "1821-Monroe\n",
      "top topic: 0 Document: great, state, power, war, make, would, government\n",
      "1825-Adams\n",
      "top topic: 0 Document: government, union, upon, nation, country, power, right\n",
      "1829-Jackson\n",
      "top topic: 2 Document: public, government, shall, power, may, state, people\n",
      "1833-Jackson\n",
      "top topic: 0 Document: government, union, people, state, power, upon, general\n",
      "1837-VanBuren\n",
      "top topic: 2 Document: people, every, government, country, institution, upon, u\n",
      "1841-Harrison\n",
      "top topic: 2 Document: power, government, state, people, constitution, citizen, upon\n",
      "1845-Polk\n",
      "top topic: 2 Document: government, state, union, power, would, country, one\n",
      "1849-Taylor\n",
      "top topic: 2 Document: shall, government, country, interest, duty, congress, u\n",
      "1853-Pierce\n",
      "top topic: 2 Document: upon, right, power, nation, state, government, u\n",
      "1857-Buchanan\n",
      "top topic: 2 Document: state, shall, constitution, may, government, people, question\n",
      "1861-Lincoln\n",
      "top topic: 2 Document: state, constitution, law, people, union, government, shall\n",
      "1865-Lincoln\n",
      "top topic: 3 Document: war, god, shall, come, union, year, nation\n",
      "1869-Grant\n",
      "top topic: 0 Document: country, pay, law, nation, every, u, dollar\n",
      "1873-Grant\n",
      "top topic: 4 Document: make, country, people, best, nation, effort, government\n",
      "1877-Hayes\n",
      "top topic: 4 Document: country, government, upon, party, state, public, question\n",
      "1881-Garfield\n",
      "top topic: 2 Document: government, people, make, constitution, state, law, nation\n",
      "1885-Cleveland\n",
      "top topic: 2 Document: people, government, public, shall, citizen, constitution, interest\n",
      "1889-Harrison\n",
      "top topic: 4 Document: people, law, state, upon, shall, public, duty\n",
      "1893-Cleveland\n",
      "top topic: 2 Document: people, government, u, every, public, american, support\n",
      "1897-McKinley\n",
      "top topic: 4 Document: upon, people, government, must, congress, law, great\n",
      "1901-McKinley\n",
      "top topic: 4 Document: government, people, upon, congress, executive, state, make\n",
      "1905-Roosevelt\n",
      "top topic: 3 Document: u, nation, people, must, life, problem, power\n",
      "1909-Taft\n",
      "top topic: 4 Document: government, make, business, law, must, may, state\n",
      "1913-Wilson\n",
      "top topic: 3 Document: great, life, men, government, justice, thing, every\n",
      "1917-Wilson\n",
      "top topic: 3 Document: upon, shall, purpose, nation, people, u, power\n",
      "1921-Harding\n",
      "top topic: 3 Document: world, must, make, war, america, government, new\n",
      "1925-Coolidge\n",
      "top topic: 3 Document: country, nation, must, great, government, people, make\n",
      "1929-Hoover\n",
      "top topic: 3 Document: government, law, nation, people, upon, progress, must\n",
      "1933-Roosevelt\n",
      "top topic: 3 Document: must, national, may, people, leadership, help, shall\n",
      "1937-Roosevelt\n",
      "top topic: 3 Document: government, people, nation, power, see, good, men\n",
      "1941-Roosevelt\n",
      "top topic: 1 Document: nation, know, life, democracy, spirit, people, u\n",
      "1945-Roosevelt\n",
      "top topic: 1 Document: shall, peace, men, learn, way, today, test\n",
      "1949-Truman\n",
      "top topic: 3 Document: nation, world, people, peace, freedom, country, free\n",
      "1953-Eisenhower\n",
      "top topic: 3 Document: free, people, world, faith, peace, shall, nation\n",
      "1957-Eisenhower\n",
      "top topic: 3 Document: nation, world, people, may, seek, freedom, peace\n",
      "1961-Kennedy\n",
      "top topic: 1 Document: let, u, world, side, new, pledge, nation\n",
      "1965-Johnson\n",
      "top topic: 1 Document: nation, change, u, must, man, union, people\n",
      "1969-Nixon\n",
      "top topic: 1 Document: u, people, world, peace, let, make, man\n",
      "1973-Nixon\n",
      "top topic: 1 Document: u, let, america, peace, world, responsibility, new\n",
      "1977-Carter\n",
      "top topic: 1 Document: nation, new, must, u, strength, people, together\n",
      "1981-Reagan\n",
      "top topic: 1 Document: u, government, must, believe, time, world, american\n",
      "1985-Reagan\n",
      "top topic: 1 Document: u, government, people, world, one, freedom, time\n",
      "1989-Bush\n",
      "top topic: 1 Document: new, u, make, nation, thing, great, world\n",
      "1993-Clinton\n",
      "top topic: 1 Document: world, america, must, american, u, people, change\n",
      "1997-Clinton\n",
      "top topic: 1 Document: new, u, century, american, nation, america, world\n",
      "2001-Bush\n",
      "top topic: 1 Document: nation, america, u, story, country, american, citizen\n",
      "2005-Bush\n",
      "top topic: 1 Document: freedom, america, liberty, nation, every, one, time\n",
      "2009-Obama\n",
      "top topic: 1 Document: u, nation, new, america, must, generation, work\n",
      "2013-Obama\n",
      "top topic: 1 Document: u, must, make, time, people, american, america\n",
      "2017-Trump\n",
      "top topic: 1 Document: america, american, country, nation, one, make, people\n"
     ]
    }
   ],
   "source": [
    "doc_topic = mdl1.transform(X)\n",
    "for i in range(len(titles)):\n",
    "    print titles[i]\n",
    "    print(\"top topic: {} Document: {}\".format(doc_topic[i].argmax(),\n",
    "                                                  ', '.join(np.array(vocab)[list(reversed(X[i,:].argsort()))[0:7]])))"
   ]
  },
  {
   "cell_type": "markdown",
   "metadata": {},
   "source": [
    "## Module 3: Optimization and Guided Search ##"
   ]
  },
  {
   "cell_type": "markdown",
   "metadata": {},
   "source": [
    "## Module 4: Your Turn to Play ##"
   ]
  }
 ],
 "metadata": {
  "kernelspec": {
   "display_name": "Python 2",
   "language": "python",
   "name": "python2"
  },
  "language_info": {
   "codemirror_mode": {
    "name": "ipython",
    "version": 2
   },
   "file_extension": ".py",
   "mimetype": "text/x-python",
   "name": "python",
   "nbconvert_exporter": "python",
   "pygments_lexer": "ipython2",
   "version": "2.7.13"
  }
 },
 "nbformat": 4,
 "nbformat_minor": 2
}
