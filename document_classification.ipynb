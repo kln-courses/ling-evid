{
 "cells": [
  {
   "cell_type": "markdown",
   "metadata": {},
   "source": [
    "# Document Classification #"
   ]
  },
  {
   "cell_type": "markdown",
   "metadata": {},
   "source": [
    "Code sample for basic document classification using scikit-learn machine learning library for Python 2"
   ]
  },
  {
   "cell_type": "code",
   "execution_count": 77,
   "metadata": {
    "collapsed": false
   },
   "outputs": [],
   "source": [
    "# core python\n",
    "import io, os, random\n",
    "\n",
    "# string management\n",
    "import re\n",
    "\n",
    "# numerical computation\n",
    "import numpy as np\n",
    "\n",
    "\n",
    "# data management\n",
    "from pandas import DataFrame\n",
    "\n",
    "# machine learning stuff\n",
    "from sklearn.feature_extraction.text import CountVectorizer\n",
    "from sklearn.naive_bayes import MultinomialNB\n",
    "from sklearn import metrics\n",
    "\n",
    "# visulization\n",
    "import matplotlib.pyplot as plt\n",
    "\n",
    "# set environment\n",
    "root = os.getcwd()\n",
    "root = \"/home/kln/Desktop/ling-evid\"\n",
    "os.chdir(root)"
   ]
  },
  {
   "cell_type": "markdown",
   "metadata": {},
   "source": [
    "### function 1: walk directory"
   ]
  },
  {
   "cell_type": "code",
   "execution_count": 22,
   "metadata": {
    "collapsed": true
   },
   "outputs": [],
   "source": [
    "def read_dir(path, SPLITCHAR = '\\n\\n', NORM = False):\n",
    "    \"\"\" get paragraphs from unicode documents in subdirectories of root directory on path (walk to subsub directories)\n",
    "    - SPLITCHAR: escape sequences for segment (default paragraph)\n",
    "    - NORM: normalization optional (remove anything but alphabetic characters and decode unicode as ascii)\n",
    "    \"\"\"\n",
    "    paragraphs_ls, filenames_ls = [], []\n",
    "    for (root, dirnames, filenames) in os.walk(path):\n",
    "        for filename in filenames:\n",
    "            filepath = os.path.join(root,filename)\n",
    "            with io.open(filepath, 'r', encoding = 'utf-8') as f:\n",
    "                text = f.read()\n",
    "                paragraphs = text.split(SPLITCHAR)\n",
    "                del paragraphs[0]\n",
    "                i = 0\n",
    "                for paragraph in paragraphs:\n",
    "                    paragraph = paragraph.rstrip()\n",
    "                    if paragraph:\n",
    "                        if NORM:\n",
    "                            paragraph = re.sub(r'\\W+',' ', paragraph)\n",
    "                            paragraph = re.sub(r'\\d','',paragraph)\n",
    "                            paragraph = re.sub(r'  +',' ', paragraph)\n",
    "                            # paragraph = unidecode(paragraph.lower())\n",
    "                            paragraph = paragraph.lower()\n",
    "                        paragraphs_ls.append(paragraph)\n",
    "                        filenames_ls.append(filename+'_'+ str(i))\n",
    "                        i += 1\n",
    "    return filenames_ls, paragraphs_ls"
   ]
  },
  {
   "cell_type": "markdown",
   "metadata": {},
   "source": [
    "### function 2: add labels to directory walk & write to dataframe"
   ]
  },
  {
   "cell_type": "code",
   "execution_count": 23,
   "metadata": {
    "collapsed": true
   },
   "outputs": [],
   "source": [
    "def make_df(path, classification):\n",
    "    \"\"\" export directory walk to dataframe with CLASS INFORMATION filename as index\n",
    "    \"\"\"\n",
    "    filenames, paragraphs = read_dir(path, NORM = True)\n",
    "    rows = []\n",
    "    idx = []\n",
    "    i = 0\n",
    "    for paragraph in paragraphs:\n",
    "        rows.append({'text': paragraph, 'class': classification})\n",
    "        idx.append(filenames[i])\n",
    "        i += 1\n",
    "    df = DataFrame(rows, index = idx)\n",
    "    return df"
   ]
  },
  {
   "cell_type": "markdown",
   "metadata": {},
   "source": [
    "### execute and write to .csv"
   ]
  },
  {
   "cell_type": "code",
   "execution_count": 26,
   "metadata": {
    "collapsed": false
   },
   "outputs": [
    {
     "name": "stdout",
     "output_type": "stream",
     "text": [
      "(10317, 2)\n",
      "                      class                                               text\n",
      "Esther.txt_0  old_testament   now it came to pass in the days of ahasuerus ...\n",
      "Esther.txt_1  old_testament   on the seventh day when the heart of the king...\n",
      "Esther.txt_2  old_testament   then the king said to the wise men which knew...\n",
      "Esther.txt_3  old_testament   after these things when the wrath of king aha...\n",
      "Esther.txt_4  old_testament   now in shushan the palace there was a certain...\n",
      " now it came to pass in the days of ahasuerus this is ahasuerus which reigned from india even unto ethiopia over an hundred and seven and twenty provinces that in those days when the king ahasuerus sat on the throne of his kingdom which was in shushan the palace in the third year of his reign he made a feast unto all his princes and his servants the power of persia and media the nobles and princes of the provinces being before him when he shewed the riches of his glorious kingdom and the honour of his excellent majesty many days even an hundred and fourscore days and when these days were expired the king made a feast unto all the people that were present in shushan the palace both unto great and small seven days in the court of the garden of the king s palace where were white green and blue hangings fastened with cords of fine linen and purple to silver rings and pillars of marble the beds were of gold and silver upon a pavement of red and blue and white and black marble and they gave them drink in vessels of gold the vessels being diverse one from another and royal wine in abundance according to the state of the king and the drinking was according to the law none did compel for so the king had appointed to all the officers of his house that they should do according to every man s pleasure also vashti the queen made a feast for the women in the royal house which belonged to king ahasuerus \n"
     ]
    }
   ],
   "source": [
    "\n",
    "## CLASS LABELS\n",
    "NT = 'new_testament'\n",
    "OT = 'old_testament'\n",
    "### map CLASS to PATH\n",
    "SRCS = [(\"DATA/KJV/OT\", OT),(\"DATA/KJV/NT\", NT)]\n",
    "\n",
    "## Build dataframe\n",
    "DATA = DataFrame({'text': [], 'class': []})\n",
    "for path, classification in SRCS:\n",
    "    DATA = DATA.append(make_df(path, classification))\n",
    "\n",
    "### inspect\n",
    "print DATA.shape\n",
    "print DATA.head()\n",
    "DATA.tail()\n",
    "print DATA.text.iloc[0]\n",
    "\n",
    "## export\n",
    "DATA.to_csv(\"DATA/CLASS_DATA.csv\")"
   ]
  },
  {
   "cell_type": "markdown",
   "metadata": {},
   "source": [
    "### read and check distribution of data ###"
   ]
  },
  {
   "cell_type": "code",
   "execution_count": 31,
   "metadata": {
    "collapsed": false
   },
   "outputs": [
    {
     "name": "stdout",
     "output_type": "stream",
     "text": [
      "(10317, 2)\n",
      "                      class                                               text\n",
      "Esther.txt_0  old_testament   now it came to pass in the days of ahasuerus ...\n",
      "Esther.txt_1  old_testament   on the seventh day when the heart of the king...\n",
      "Esther.txt_2  old_testament   then the king said to the wise men which knew...\n",
      "Esther.txt_3  old_testament   after these things when the wrath of king aha...\n",
      "Esther.txt_4  old_testament   now in shushan the palace there was a certain...\n"
     ]
    }
   ],
   "source": [
    "import pandas as pd\n",
    "\n",
    "DATA = pd.read_csv(\"DATA/CLASS_DATA.csv\", index_col = 0, encoding = 'utf-8')\n",
    "print DATA.shape\n",
    "print DATA.head()"
   ]
  },
  {
   "cell_type": "code",
   "execution_count": 36,
   "metadata": {
    "collapsed": false
   },
   "outputs": [
    {
     "name": "stdout",
     "output_type": "stream",
     "text": [
      "number of old_testament: 9461\n",
      "number of new_testament: 856\n"
     ]
    }
   ],
   "source": [
    "def printdist(DF):\n",
    "    for label in set(DF['class']):\n",
    "        #print label\n",
    "        print \"number of {}: {}\".format(label,sum(DF['class'] == label))\n",
    "\n",
    "printdist(DATA)"
   ]
  },
  {
   "cell_type": "code",
   "execution_count": 47,
   "metadata": {
    "collapsed": false
   },
   "outputs": [
    {
     "data": {
      "text/plain": [
       "(1600, 2)"
      ]
     },
     "execution_count": 47,
     "metadata": {},
     "output_type": "execute_result"
    }
   ],
   "source": [
    "def balance(df, n, classcol = 'class'):\n",
    "    random.seed(1234)\n",
    "    res = pd.DataFrame(columns = df.columns)\n",
    "    C = list(set(df[classcol]))\n",
    "    for c in C:\n",
    "        idx = df[df[classcol] == c].index.tolist()\n",
    "        df_c = df.loc[random.sample(idx,n)]\n",
    "        res = res.append(df_c)\n",
    "    return res.reindex(np.random.permutation(res.index))\n",
    "\n",
    "DATA_bal = balance(DATA,800)\n",
    "DATA_bal.shape "
   ]
  },
  {
   "cell_type": "markdown",
   "metadata": {},
   "source": [
    "### split data set ###"
   ]
  },
  {
   "cell_type": "code",
   "execution_count": 52,
   "metadata": {
    "collapsed": false
   },
   "outputs": [
    {
     "name": "stdout",
     "output_type": "stream",
     "text": [
      "(1266, 2)\n",
      "(334, 2)\n"
     ]
    }
   ],
   "source": [
    "ratio = 0.8\n",
    "mask = np.random.rand(len(DATA_bal)) <= ratio\n",
    "\n",
    "TRAIN = DATA_bal[mask]\n",
    "TEST = DATA_bal[~mask]\n",
    "\n",
    "print TRAIN.shape\n",
    "print TEST.shape\n",
    "\n",
    "# training set\n",
    "X_train = TRAIN['text'].values\n",
    "y_train = TRAIN['class'].values\n",
    "\n",
    "# test set\n",
    "X_test = TEST['text'].values\n",
    "y_test = TEST['class'].values"
   ]
  },
  {
   "cell_type": "markdown",
   "metadata": {},
   "source": [
    "Transform data to document term matrix"
   ]
  },
  {
   "cell_type": "code",
   "execution_count": 59,
   "metadata": {
    "collapsed": true
   },
   "outputs": [],
   "source": [
    "vectorizer = CountVectorizer(ngram_range = (1,2), stop_words = 'english', \n",
    "                             lowercase = True, max_df = 0.95, min_df = 0.01, \n",
    "                             max_features = 500)\n",
    "\n",
    "FEAT_train = vectorizer.fit_transform(X_train)\n",
    "FEAT_test = vectorizer.transform(X_test)\n",
    "FEAT_names = vectorizer.get_feature_names()"
   ]
  },
  {
   "cell_type": "markdown",
   "metadata": {},
   "source": [
    "Train naive bayes classifier"
   ]
  },
  {
   "cell_type": "code",
   "execution_count": 61,
   "metadata": {
    "collapsed": false
   },
   "outputs": [
    {
     "data": {
      "text/plain": [
       "MultinomialNB(alpha=1.0, class_prior=None, fit_prior=True)"
      ]
     },
     "execution_count": 61,
     "metadata": {},
     "output_type": "execute_result"
    }
   ],
   "source": [
    "classifier = MultinomialNB()\n",
    "classifier.fit(FEAT_train, y_train)"
   ]
  },
  {
   "cell_type": "markdown",
   "metadata": {},
   "source": [
    "Evaluate performance"
   ]
  },
  {
   "cell_type": "code",
   "execution_count": 64,
   "metadata": {
    "collapsed": false
   },
   "outputs": [
    {
     "name": "stdout",
     "output_type": "stream",
     "text": [
      "[u'old_testament' u'old_testament' u'old_testament' u'new_testament'\n",
      " u'new_testament' u'new_testament' u'old_testament' u'new_testament'\n",
      " u'new_testament' u'new_testament']\n"
     ]
    }
   ],
   "source": [
    "pred = classifier.predict(FEAT_test)\n",
    "print pred[:10]"
   ]
  },
  {
   "cell_type": "code",
   "execution_count": 71,
   "metadata": {
    "collapsed": false
   },
   "outputs": [
    {
     "name": "stdout",
     "output_type": "stream",
     "text": [
      "Accuracy = 0.86\n",
      "\n",
      "\n",
      "               precision    recall  f1-score   support\n",
      "\n",
      "new_testament       0.78      0.99      0.87       161\n",
      "old_testament       0.98      0.74      0.84       173\n",
      "\n",
      "  avg / total       0.89      0.86      0.86       334\n",
      "\n"
     ]
    }
   ],
   "source": [
    "confmat = metrics.confusion_matrix(y_test, pred)\n",
    "\n",
    "print \"Accuracy = {}\".format(round(metrics.accuracy_score(y_test, pred),2))\n",
    "print\n",
    "print\n",
    "print metrics.classification_report(y_test, pred)"
   ]
  },
  {
   "cell_type": "markdown",
   "metadata": {},
   "source": [
    "ROC curve"
   ]
  },
  {
   "cell_type": "code",
   "execution_count": 87,
   "metadata": {
    "collapsed": false
   },
   "outputs": [],
   "source": [
    "y_scores = classifier.predict_proba(FEAT_test)\n",
    "FPR, TPR, thresholds = metrics.roc_curve(y_test, y_scores[:,1], pos_label = 'old_testament')\n",
    "AUC = round(metrics.auc(FPR,TPR), 2)"
   ]
  },
  {
   "cell_type": "code",
   "execution_count": 90,
   "metadata": {
    "collapsed": false
   },
   "outputs": [
    {
     "data": {
      "image/png": "[encoded data removed]",
      "text/plain": [
       "<matplotlib.figure.Figure at 0x7faf0b1b7710>"
      ]
     },
     "metadata": {},
     "output_type": "display_data"
    }
   ],
   "source": [
    "plt.title('ROC')\n",
    "plt.plot(FPR,TPR, c = 'r', label = ('AUC = {}'.format(AUC)))\n",
    "plt.legend(loc = 'lower right', prop={'size':8})\n",
    "plt.plot([0,1],[0,1], c = 'lightgrey',linestyle = '--')\n",
    "plt.xlabel('False Positive Rate')\n",
    "plt.ylabel('True Positive Rate')\n",
    "plt.show()\n",
    "plt.savefig('ROC.png', dpi = 300)\n",
    "plt.close()"
   ]
  }
 ],
 "metadata": {
  "kernelspec": {
   "display_name": "Python 2",
   "language": "python",
   "name": "python2"
  },
  "language_info": {
   "codemirror_mode": {
    "name": "ipython",
    "version": 2
   },
   "file_extension": ".py",
   "mimetype": "text/x-python",
   "name": "python",
   "nbconvert_exporter": "python",
   "pygments_lexer": "ipython2",
   "version": "2.7.13"
  }
 },
 "nbformat": 4,
 "nbformat_minor": 2
}
