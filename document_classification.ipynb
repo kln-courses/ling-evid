{
 "cells": [
  {
   "cell_type": "markdown",
   "metadata": {},
   "source": [
    "# Document Classification #"
   ]
  },
  {
   "cell_type": "markdown",
   "metadata": {},
   "source": [
    "Code sample for basic document classification using scikit-learn machine learning library for Python 2"
   ]
  },
  {
   "cell_type": "code",
   "execution_count": 1,
   "metadata": {
    "collapsed": true
   },
   "outputs": [],
   "source": [
    "# core python\n",
    "import io, os\n",
    "\n",
    "# string management\n",
    "import re\n",
    "from unidecode import unidecode\n",
    "\n",
    "# data management\n",
    "from pandas import DataFrame"
   ]
  },
  {
   "cell_type": "markdown",
   "metadata": {},
   "source": [
    "### function 1: walk directory"
   ]
  },
  {
   "cell_type": "code",
   "execution_count": 5,
   "metadata": {
    "collapsed": true
   },
   "outputs": [],
   "source": [
    "def read_dir(path, SPLITCHAR = '\\n', NORM = False):\n",
    "    \"\"\" get paragraphs from unicode documents in subdirectories of root directory on path (walk to subsub directories)\n",
    "    - SPLITCHAR: escape sequences for segment (default paragraph)\n",
    "    - NORM: normalization optional (remove anything but alphabetic characters and decode unicode as ascii)\n",
    "    \"\"\"\n",
    "    paragraphs_ls, filenames_ls = [], []\n",
    "    for (root, dirnames, filenames) in os.walk(path):\n",
    "        for filename in filenames:\n",
    "            filepath = os.path.join(root,filename)\n",
    "            with io.open(filepath, 'r', encoding = 'utf-8') as f:\n",
    "                text = f.read()\n",
    "                paragraphs = text.split(SPLITCHAR)\n",
    "                del paragraphs[0]\n",
    "                i = 0\n",
    "                for paragraph in paragraphs:\n",
    "                    paragraph = paragraph.rstrip()\n",
    "                    if paragraph:\n",
    "                        if NORM:\n",
    "                            paragraph = re.sub(r'\\W+',' ', paragraph)\n",
    "                            paragraph = re.sub(r'\\d','',paragraph)\n",
    "                            paragraph = re.sub(r'  +',' ', paragraph)\n",
    "                            paragraph = unidecode(paragraph.lower())\n",
    "                        paragraphs_ls.append(paragraph)\n",
    "                        filenames_ls.append(filename+'_'+ str(i))\n",
    "                        i += 1\n",
    "    return filenames_ls, paragraphs_ls"
   ]
  },
  {
   "cell_type": "markdown",
   "metadata": {},
   "source": [
    "### function 2: add labels to directory walk & write to dataframe"
   ]
  },
  {
   "cell_type": "code",
   "execution_count": 6,
   "metadata": {
    "collapsed": true
   },
   "outputs": [],
   "source": [
    "def make_df(path, classification):\n",
    "    \"\"\" export directory walk to dataframe with CLASS INFORMATION filename as index\n",
    "    \"\"\"\n",
    "    filenames, paragraphs = read_dir(path, NORM = True)\n",
    "    rows = []\n",
    "    idx = []\n",
    "    i = 0\n",
    "    for paragraph in paragraphs:\n",
    "        rows.append({'text': paragraph, 'class': classification})\n",
    "        idx.append(filenames[i])\n",
    "        i += 1\n",
    "    df = DataFrame(rows, index = idx)\n",
    "    return df"
   ]
  },
  {
   "cell_type": "markdown",
   "metadata": {},
   "source": [
    "### execute and write to .csv"
   ]
  },
  {
   "cell_type": "code",
   "execution_count": 8,
   "metadata": {
    "collapsed": false
   },
   "outputs": [
    {
     "name": "stdout",
     "output_type": "stream",
     "text": [
      "(81651, 2)\n",
      "the book of esther\n"
     ]
    }
   ],
   "source": [
    "## CLASS LABELS\n",
    "NT = 'new_testament'\n",
    "OT = 'old_testament'\n",
    "### map CLASS to PATH\n",
    "SRCS = [(\"DATA/KJV/OT\", OT),(\"DATA/KJV/NT\", NT)]\n",
    "\n",
    "## Build dataframe\n",
    "DATA = DataFrame({'text': [], 'class': []})\n",
    "for path, classification in SRCS:\n",
    "    DATA = DATA.append(make_df(path, classification))\n",
    "\n",
    "### inspect\n",
    "print DATA.shape\n",
    "DATA.head()\n",
    "DATA.tail()\n",
    "print DATA.text.iloc[0]\n",
    "\n",
    "## export\n",
    "DATA.to_csv(\"DATA/CLASS_DATA.csv\")"
   ]
  }
 ],
 "metadata": {
  "kernelspec": {
   "display_name": "Python 2",
   "language": "python",
   "name": "python2"
  },
  "language_info": {
   "codemirror_mode": {
    "name": "ipython",
    "version": 2
   },
   "file_extension": ".py",
   "mimetype": "text/x-python",
   "name": "python",
   "nbconvert_exporter": "python",
   "pygments_lexer": "ipython2",
   "version": "2.7.13"
  }
 },
 "nbformat": 4,
 "nbformat_minor": 2
}
