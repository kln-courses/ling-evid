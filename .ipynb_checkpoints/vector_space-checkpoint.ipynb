{
 "cells": [
  {
   "cell_type": "markdown",
   "metadata": {},
   "source": [
    "# Create Vector Space for Topic Modeling #"
   ]
  },
  {
   "cell_type": "code",
   "execution_count": 16,
   "metadata": {
    "collapsed": false
   },
   "outputs": [
    {
     "name": "stdout",
     "output_type": "stream",
     "text": [
      "['1869-Grant.txt', '1801-Jefferson.txt', '1837-VanBuren.txt', '1813-Madison.txt', '1909-Taft.txt', '1973-Nixon.txt', '1933-Roosevelt.txt', '1841-Harrison.txt', '1849-Taylor.txt', '1845-Polk.txt', '1945-Roosevelt.txt', '2001-Bush.txt', '2005-Bush.txt', '1877-Hayes.txt', '1981-Reagan.txt', '1901-McKinley.txt', '1965-Johnson.txt', '1993-Clinton.txt', '1957-Eisenhower.txt', '2013-Obama.txt', '1861-Lincoln.txt', '1937-Roosevelt.txt', '1997-Clinton.txt', '1833-Jackson.txt', '1917-Wilson.txt', 'encoding.sh', '1925-Coolidge.txt', '1885-Cleveland.txt', '1793-Washington.txt', '2017-Trump.txt', '1921-Harding.txt', '1961-Kennedy.txt', '1941-Roosevelt.txt', '1905-Roosevelt.txt', '1897-McKinley.txt', '1969-Nixon.txt', '1857-Buchanan.txt', '1989-Bush.txt', '1953-Eisenhower.txt', '1977-Carter.txt', '1817-Monroe.txt', '1985-Reagan.txt', '1853-Pierce.txt', '1913-Wilson.txt', '1809-Madison.txt', '1829-Jackson.txt', '1797-Adams.txt', '1865-Lincoln.txt', '1893-Cleveland.txt', '1821-Monroe.txt', '1873-Grant.txt', '1881-Garfield.txt', '1825-Adams.txt', '2009-Obama.txt', '1929-Hoover.txt', '1789-Washington.txt', '1889-Harrison.txt', '1949-Truman.txt', '1805-Jefferson.txt']\n"
     ]
    }
   ],
   "source": [
    "import glob, os, re, textmining\n",
    "\n",
    "root = os.getcwd()\n",
    "dpath = os.path.join(root,\"DATA\",\"INAUG\")\n",
    "\n",
    "print os.listdir(dpath)"
   ]
  },
  {
   "cell_type": "code",
   "execution_count": 17,
   "metadata": {
    "collapsed": true
   },
   "outputs": [],
   "source": [
    "def read_txt(path):\n",
    "    fnames = sorted(glob.glob(os.path.join(path,\"*.txt\")))\n",
    "    data = []\n",
    "    metadata = []\n",
    "    for fname in fnames:\n",
    "        with open(fname, 'r') as f:\n",
    "            data.append(f.read())\n",
    "        metadata.append(os.path.basename(fname).split(\".\")[0])\n",
    "    return data, metadata\n",
    "\n",
    "def clean(s):\n",
    "    return re.sub(r\"\\d\",\"\",s.lower())"
   ]
  },
  {
   "cell_type": "code",
   "execution_count": 21,
   "metadata": {
    "collapsed": false
   },
   "outputs": [
    {
     "name": "stdout",
     "output_type": "stream",
     "text": [
      "58\n",
      "['1789-Washington', '1793-Washington', '1797-Adams', '1801-Jefferson', '1805-Jefferson', '1809-Madison', '1813-Madison', '1817-Monroe', '1821-Monroe', '1825-Adams', '1829-Jackson', '1833-Jackson', '1837-VanBuren', '1841-Harrison', '1845-Polk', '1849-Taylor', '1853-Pierce', '1857-Buchanan', '1861-Lincoln', '1865-Lincoln', '1869-Grant', '1873-Grant', '1877-Hayes', '1881-Garfield', '1885-Cleveland', '1889-Harrison', '1893-Cleveland', '1897-McKinley', '1901-McKinley', '1905-Roosevelt', '1909-Taft', '1913-Wilson', '1917-Wilson', '1921-Harding', '1925-Coolidge', '1929-Hoover', '1933-Roosevelt', '1937-Roosevelt', '1941-Roosevelt', '1945-Roosevelt', '1949-Truman', '1953-Eisenhower', '1957-Eisenhower', '1961-Kennedy', '1965-Johnson', '1969-Nixon', '1973-Nixon', '1977-Carter', '1981-Reagan', '1985-Reagan', '1989-Bush', '1993-Clinton', '1997-Clinton', '2001-Bush', '2005-Bush', '2009-Obama', '2013-Obama', '2017-Trump']\n"
     ]
    }
   ],
   "source": [
    "texts, titles = read_txt(dpath)\n",
    "print len(texts)\n",
    "print titles"
   ]
  },
  {
   "cell_type": "code",
   "execution_count": 19,
   "metadata": {
    "collapsed": true
   },
   "outputs": [],
   "source": [
    "texts = map(clean,texts)"
   ]
  },
  {
   "cell_type": "code",
   "execution_count": 20,
   "metadata": {
    "collapsed": true
   },
   "outputs": [],
   "source": [
    "M = textmining.TermDocumentMatrix()\n",
    "for text in texts:\n",
    "    M.add_doc(text)\n",
    "\n",
    "M.write_csv('matrix.csv', cutoff=3)"
   ]
  },
  {
   "cell_type": "code",
   "execution_count": null,
   "metadata": {
    "collapsed": true
   },
   "outputs": [],
   "source": [
    "f = open('matrix_filename.txt', 'w')\n",
    "for i in titles:\n",
    "    f.write(\"%s\\n\" % i)"
   ]
  }
 ],
 "metadata": {
  "kernelspec": {
   "display_name": "Python 2",
   "language": "python",
   "name": "python2"
  },
  "language_info": {
   "codemirror_mode": {
    "name": "ipython",
    "version": 2
   },
   "file_extension": ".py",
   "mimetype": "text/x-python",
   "name": "python",
   "nbconvert_exporter": "python",
   "pygments_lexer": "ipython2",
   "version": "2.7.13"
  }
 },
 "nbformat": 4,
 "nbformat_minor": 2
}
