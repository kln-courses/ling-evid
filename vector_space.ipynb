{
 "cells": [
  {
   "cell_type": "markdown",
   "metadata": {},
   "source": [
    "# Create Vector Space for Topic Modeling #"
   ]
  },
  {
   "cell_type": "code",
   "execution_count": null,
   "metadata": {
    "collapsed": false
   },
   "outputs": [],
   "source": [
    "import glob, os, re, textmining\n",
    "\n",
    "root = os.getcwd()\n",
    "dpath = os.path.join(root,\"DATA\",\"INAUG\")\n",
    "\n",
    "print os.listdir(dpath)"
   ]
  },
  {
   "cell_type": "code",
   "execution_count": null,
   "metadata": {
    "collapsed": true
   },
   "outputs": [],
   "source": [
    "def read_txt(path):\n",
    "    fnames = sorted(glob.glob(os.path.join(path,\"*.txt\")))\n",
    "    data = []\n",
    "    metadata = []\n",
    "    for fname in fnames:\n",
    "        with open(fname, 'r') as f:\n",
    "            data.append(f.read())\n",
    "        metadata.append(os.path.basename(fname).split(\".\")[0])\n",
    "    return data, metadata\n",
    "\n",
    "def clean(s):\n",
    "    return re.sub(r\"\\d\",\"\",s.lower())"
   ]
  },
  {
   "cell_type": "code",
   "execution_count": null,
   "metadata": {
    "collapsed": false
   },
   "outputs": [],
   "source": [
    "texts, titles = read_txt(dpath)\n",
    "print len(texts)\n",
    "print titles"
   ]
  },
  {
   "cell_type": "code",
   "execution_count": null,
   "metadata": {
    "collapsed": true
   },
   "outputs": [],
   "source": [
    "texts = map(clean,texts)"
   ]
  },
  {
   "cell_type": "code",
   "execution_count": null,
   "metadata": {
    "collapsed": true
   },
   "outputs": [],
   "source": [
    "M = textmining.TermDocumentMatrix()\n",
    "for text in texts:\n",
    "    M.add_doc(text)\n",
    "\n",
    "M.write_csv('matrix.csv', cutoff=3)"
   ]
  },
  {
   "cell_type": "code",
   "execution_count": null,
   "metadata": {
    "collapsed": true
   },
   "outputs": [],
   "source": [
    "f = open('matrix_filename.txt', 'w')\n",
    "for i in titles:\n",
    "    f.write(\"%s\\n\" % i)"
   ]
  }
 ],
 "metadata": {
  "kernelspec": {
   "display_name": "Python 2",
   "language": "python",
   "name": "python2"
  },
  "language_info": {
   "codemirror_mode": {
    "name": "ipython",
    "version": 2
   },
   "file_extension": ".py",
   "mimetype": "text/x-python",
   "name": "python",
   "nbconvert_exporter": "python",
   "pygments_lexer": "ipython2",
   "version": "2.7.13"
  }
 },
 "nbformat": 4,
 "nbformat_minor": 2
}
