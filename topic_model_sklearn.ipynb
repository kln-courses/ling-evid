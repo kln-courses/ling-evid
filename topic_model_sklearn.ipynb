{
 "cells": [
  {
   "cell_type": "code",
   "execution_count": null,
   "metadata": {
    "collapsed": true
   },
   "outputs": [],
   "source": [
    "import glob, os, re"
   ]
  },
  {
   "cell_type": "code",
   "execution_count": null,
   "metadata": {
    "collapsed": false
   },
   "outputs": [],
   "source": [
    "# path to working directory\n",
    "root = os.getcwd()\n",
    "print root# print(root) for Py3 because print has become a function\n",
    "\n",
    "# path to data directory\n",
    "dpath = os.path.join(root,\"DATA\",\"INAUG\")\n",
    "\n",
    "print os.listdir(dpath)"
   ]
  },
  {
   "cell_type": "markdown",
   "metadata": {},
   "source": [
    "### Preprocessing element\n",
    "Functions for import and mininal cleaning of texts "
   ]
  },
  {
   "cell_type": "code",
   "execution_count": null,
   "metadata": {
    "collapsed": true
   },
   "outputs": [],
   "source": [
    "def read_txt(path):\n",
    "    \"\"\"\n",
    "    Read all plain text files in directory on path\n",
    "    \"\"\"\n",
    "    fnames = sorted(glob.glob(os.path.join(path,\"*.txt\")))\n",
    "    data = []\n",
    "    metadata = []\n",
    "    for fname in fnames:\n",
    "        with open(fname, 'r') as f:\n",
    "            data.append(f.read())\n",
    "        metadata.append(os.path.basename(fname).split(\".\")[0])\n",
    "    return data, metadata\n",
    "\n",
    "def clean(s):\n",
    "    \"\"\"\n",
    "    Remove number and casefold string s\n",
    "    \"\"\"\n",
    "    return re.sub(r\"\\d\",\"\",s.lower())"
   ]
  },
  {
   "cell_type": "markdown",
   "metadata": {},
   "source": [
    "Apply function to import and clean texts"
   ]
  },
  {
   "cell_type": "code",
   "execution_count": null,
   "metadata": {
    "collapsed": false
   },
   "outputs": [],
   "source": [
    "texts, titles = read_txt(dpath)\n",
    "texts = map(clean,texts)\n",
    "# texts = list(map(clean,texts))# for py 3\n",
    "\n",
    "textsnonumber = []\n",
    "for text in texts:\n",
    "    textsnonumber.append(clean(text))\n"
   ]
  },
  {
   "cell_type": "markdown",
   "metadata": {},
   "source": [
    "## and scikit-learn happens ##\n",
    "import vectorizer and model object"
   ]
  },
  {
   "cell_type": "code",
   "execution_count": 8,
   "metadata": {
    "collapsed": false
   },
   "outputs": [],
   "source": [
    "from sklearn.feature_extraction.text import CountVectorizer\n",
    "from sklearn.decomposition import LatentDirichletAllocation"
   ]
  },
  {
   "cell_type": "markdown",
   "metadata": {},
   "source": [
    "Transform texts to vector space"
   ]
  },
  {
   "cell_type": "code",
   "execution_count": 10,
   "metadata": {
    "collapsed": false
   },
   "outputs": [
    {
     "name": "stdout",
     "output_type": "stream",
     "text": [
      "[u'ability', u'able', u'abroad', u'accept', u'act', u'action', u'acts', u'administration', u'advance', u'affairs']\n"
     ]
    }
   ],
   "source": [
    "vectorizer = CountVectorizer(max_df = 0.95, min_df = 0.01, \n",
    "                             max_features = 500, stop_words = 'english',\n",
    "                            encoding = 'ascii', ngram_range = (1,1))\n",
    "\n",
    "X = vectorizer.fit_transform(texts)\n",
    "vocab = vectorizer.get_feature_names()\n",
    "X.shape\n",
    "print vocab[:10]# print first 10 features"
   ]
  },
  {
   "cell_type": "markdown",
   "metadata": {},
   "source": [
    "## train model ##"
   ]
  },
  {
   "cell_type": "code",
   "execution_count": 11,
   "metadata": {
    "collapsed": false
   },
   "outputs": [],
   "source": [
    "k = 5\n",
    "mdl1 = LatentDirichletAllocation(n_topics = k, max_iter = 100, \n",
    "                                 random_state = 1234, \n",
    "                                 learning_method = 'online').fit(X)"
   ]
  },
  {
   "cell_type": "markdown",
   "metadata": {},
   "source": [
    "### explore the model ###\n",
    "Display 10 most relevant words for each topic"
   ]
  },
  {
   "cell_type": "code",
   "execution_count": 12,
   "metadata": {
    "collapsed": false,
    "scrolled": true
   },
   "outputs": [
    {
     "name": "stdout",
     "output_type": "stream",
     "text": [
      "Topic 0\n",
      "world nation new america freedom peace government let time great\n",
      "Topic 1\n",
      "government states great world union power time shall citizens public\n",
      "Topic 2\n",
      "government states country shall great public constitution citizens power union\n",
      "Topic 3\n",
      "government states country shall power constitution public nation great citizens\n",
      "Topic 4\n",
      "government shall nation states peace world life men america years\n"
     ]
    }
   ],
   "source": [
    "def display_topics(model, feature_names, no_top_words = 10):\n",
    "    for topic_idx, topic in enumerate(model.components_):\n",
    "        print \"Topic {}\".format(topic_idx)\n",
    "        print \" \".join([feature_names[i] for i in topic.argsort()\n",
    "                        [:-no_top_words-1:-1]])\n",
    "        \n",
    "#vocab = vectorizer.get_feature_names()\n",
    "#print len(vocab)\n",
    "\n",
    "display_topics(mdl1, vocab)"
   ]
  },
  {
   "cell_type": "code",
   "execution_count": 13,
   "metadata": {
    "collapsed": false
   },
   "outputs": [
    {
     "name": "stdout",
     "output_type": "stream",
     "text": [
      "2\n",
      "3\n",
      "4\n",
      "5\n",
      "6\n",
      "7\n",
      "8\n",
      "9\n",
      "10\n",
      "11\n",
      "12\n",
      "13\n",
      "14\n",
      "15\n",
      "16\n",
      "17\n",
      "18\n",
      "19\n"
     ]
    }
   ],
   "source": [
    "grid = range(2,20)\n",
    "out = []\n",
    "for k in grid:\n",
    "    tmp_mdl = LatentDirichletAllocation(n_topics = k, max_iter = 100, \n",
    "                                 random_state = 1234, \n",
    "                                 learning_method = 'online').fit(X)\n",
    "    print(k)\n",
    "    out.append(round(tmp_mdl.perplexity(X),2))\n",
    "\n",
    "\n",
    "\n"
   ]
  },
  {
   "cell_type": "markdown",
   "metadata": {},
   "source": [
    "Plot result"
   ]
  },
  {
   "cell_type": "code",
   "execution_count": 17,
   "metadata": {
    "collapsed": false
   },
   "outputs": [
    {
     "data": {
      "image/png": "[encoded data removed]",
      "text/plain": [
       "<matplotlib.figure.Figure at 0x7f7debeb3c10>"
      ]
     },
     "metadata": {},
     "output_type": "display_data"
    }
   ],
   "source": [
    "import matplotlib.pyplot as plt\n",
    "\n",
    "plt.plot(grid,out)\n",
    "plt.show()\n",
    "plt.close()"
   ]
  }
 ],
 "metadata": {
  "kernelspec": {
   "display_name": "Python 2",
   "language": "python",
   "name": "python2"
  },
  "language_info": {
   "codemirror_mode": {
    "name": "ipython",
    "version": 2
   },
   "file_extension": ".py",
   "mimetype": "text/x-python",
   "name": "python",
   "nbconvert_exporter": "python",
   "pygments_lexer": "ipython2",
   "version": "2.7.13"
  }
 },
 "nbformat": 4,
 "nbformat_minor": 2
}
