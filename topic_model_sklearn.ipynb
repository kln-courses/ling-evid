{
 "cells": [
  {
   "cell_type": "code",
   "execution_count": null,
   "metadata": {
    "collapsed": true
   },
   "outputs": [],
   "source": [
    "import glob, os, re"
   ]
  },
  {
   "cell_type": "code",
   "execution_count": null,
   "metadata": {
    "collapsed": false
   },
   "outputs": [],
   "source": [
    "# path to working directory\n",
    "root = os.getcwd()\n",
    "print root# print(root) for Py3 because print has become a function\n",
    "\n",
    "# path to data directory\n",
    "dpath = os.path.join(root,\"DATA\",\"INAUG\")\n",
    "\n",
    "print os.listdir(dpath)"
   ]
  },
  {
   "cell_type": "code",
   "execution_count": null,
   "metadata": {
    "collapsed": true
   },
   "outputs": [],
   "source": [
    "def read_txt(path):\n",
    "    fnames = sorted(glob.glob(os.path.join(path,\"*.txt\")))\n",
    "    data = []\n",
    "    metadata = []\n",
    "    for fname in fnames:\n",
    "        with open(fname, 'r') as f:\n",
    "            data.append(f.read())\n",
    "        metadata.append(os.path.basename(fname).split(\".\")[0])\n",
    "    return data, metadata\n",
    "\n",
    "def clean(s):\n",
    "    return re.sub(r\"\\d\",\"\",s.lower())"
   ]
  },
  {
   "cell_type": "code",
   "execution_count": null,
   "metadata": {
    "collapsed": false
   },
   "outputs": [],
   "source": [
    "texts, titles = read_txt(dpath)\n",
    "print texts[-1]"
   ]
  },
  {
   "cell_type": "markdown",
   "metadata": {},
   "source": [
    "## and scikit-learn happens ##\n",
    "import vectorizer and model object"
   ]
  },
  {
   "cell_type": "code",
   "execution_count": null,
   "metadata": {
    "collapsed": false
   },
   "outputs": [],
   "source": [
    "from sklearn.feature_extraction.text import CountVectorizer\n",
    "from sklearn.decomposition import LatentDirichletAllocation"
   ]
  },
  {
   "cell_type": "markdown",
   "metadata": {},
   "source": [
    "Transform texts to vector space"
   ]
  },
  {
   "cell_type": "code",
   "execution_count": null,
   "metadata": {
    "collapsed": true
   },
   "outputs": [],
   "source": [
    "vectorizer = CountVectorizer(max_df = 0.95, min_df = 0.01, \n",
    "                             max_features = 500, stop_words = 'english',\n",
    "                            encoding = 'ascii', ngram_range = (1,1))\n",
    "\n",
    "X = vectorizer.fit_transform(texts)\n",
    "vocab = vectorizer.get_feature_names()\n",
    "X.shape"
   ]
  },
  {
   "cell_type": "markdown",
   "metadata": {},
   "source": [
    "## train model ##"
   ]
  },
  {
   "cell_type": "code",
   "execution_count": 26,
   "metadata": {
    "collapsed": false
   },
   "outputs": [],
   "source": [
    "k = 5\n",
    "mdl1 = LatentDirichletAllocation(n_topics = k, max_iter = 100, \n",
    "                                 random_state = 1234, \n",
    "                                 learning_method = 'online').fit(X)"
   ]
  },
  {
   "cell_type": "markdown",
   "metadata": {},
   "source": [
    "### exploring the model ###"
   ]
  },
  {
   "cell_type": "code",
   "execution_count": 24,
   "metadata": {
    "collapsed": false
   },
   "outputs": [
    {
     "name": "stdout",
     "output_type": "stream",
     "text": [
      "500\n",
      "Topic 0\n",
      "world new america nation government let peace time today great\n",
      "Topic 1\n",
      "government states constitution union great shall power citizens united congress\n",
      "Topic 2\n",
      "government country public shall great nations states peace citizens national\n",
      "Topic 3\n",
      "government country states great public constitution shall peace free nations\n",
      "Topic 4\n",
      "freedom world free nation america nations know peace life men\n"
     ]
    }
   ],
   "source": [
    "def display_topics(model, feature_names, no_top_words = 10):\n",
    "    for topic_idx, topic in enumerate(model.components_):\n",
    "        print \"Topic {}\".format(topic_idx)\n",
    "        print \" \".join([feature_names[i] for i in topic.argsort()\n",
    "                        [:-no_top_words-1:-1]])\n",
    "        \n",
    "vocab = vectorizer.get_feature_names()\n",
    "print len(vocab)\n",
    "\n",
    "display_topics(mdl1, vocab)"
   ]
  }
 ],
 "metadata": {
  "kernelspec": {
   "display_name": "Python 2",
   "language": "python",
   "name": "python2"
  },
  "language_info": {
   "codemirror_mode": {
    "name": "ipython",
    "version": 2
   },
   "file_extension": ".py",
   "mimetype": "text/x-python",
   "name": "python",
   "nbconvert_exporter": "python",
   "pygments_lexer": "ipython2",
   "version": "2.7.13"
  }
 },
 "nbformat": 4,
 "nbformat_minor": 2
}
